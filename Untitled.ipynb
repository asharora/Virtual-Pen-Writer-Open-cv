{
 "cells": [
  {
   "cell_type": "code",
   "execution_count": 1,
   "metadata": {},
   "outputs": [],
   "source": [
    "import cv2\n",
    "import numpy as np\n",
    "import time\n",
    "import imutils"
   ]
  },
  {
   "cell_type": "code",
   "execution_count": null,
   "metadata": {},
   "outputs": [],
   "source": [
    "cap = cv2.VideoCapture(0)\n",
    "def nothing(x):\n",
    "    pass\n",
    "\n",
    "points=[]\n",
    "cv2.namedWindow(\"Colorbars\")\n",
    "cv2.createTrackbar(\"l_h\",\"Colorbars\",0,255,nothing)\n",
    "cv2.createTrackbar(\"l_s\",\"Colorbars\",0,255,nothing)\n",
    "cv2.createTrackbar(\"l_v\",\"Colorbars\",0,255,nothing)\n",
    "cv2.createTrackbar(\"h_h\",\"Colorbars\",0,255,nothing)\n",
    "cv2.createTrackbar(\"h_s\",\"Colorbars\",0,255,nothing)\n",
    "cv2.createTrackbar(\"h_v\",\"Colorbars\",0,255,nothing)\n",
    "\n",
    "#ORANGE_MIN = np.array([5, 50, 50],np.uint8)\n",
    "#ORANGE_MAX = np.array([10, 255, 255],np.uint8)\n",
    "while(True):\n",
    "    # Capture frame-by-frame\n",
    "    ret, frame = cap.read()\n",
    "    l_h=cv2.getTrackbarPos(\"l_h\",\"Colorbars\")\n",
    "    l_s=cv2.getTrackbarPos(\"l_s\",\"Colorbars\")\n",
    "    l_v=cv2.getTrackbarPos(\"l_v\",\"Colorbars\")\n",
    "    h_h=cv2.getTrackbarPos(\"h_h\",\"Colorbars\")\n",
    "    h_s=cv2.getTrackbarPos(\"h_s\",\"Colorbars\")\n",
    "    h_v=cv2.getTrackbarPos(\"h_v\",\"Colorbars\")\n",
    "    ORANGE_MIN = np.array([148, 107, 147],np.uint8)\n",
    "    ORANGE_MAX = np.array([211, 241, 255],np.uint8)\n",
    "\n",
    "    # Our operations on the frame come here\n",
    "    hsv=cv2.cvtColor(frame,cv2.COLOR_BGR2HSV)\n",
    "    img=cv2.inRange(hsv,ORANGE_MIN,ORANGE_MAX)\n",
    "    #_,thresh=cv2.threshold(img,127,255,cv2.THRESH_BINARY)\n",
    "    # Display the resulting frame\n",
    "    #edge=cv2.Canny(img,100,200)\n",
    "    contours = cv2.findContours(img, cv2.RETR_TREE, cv2.CHAIN_APPROX_SIMPLE)\n",
    "    contours = imutils.grab_contours(contours)\n",
    "    #cv2.drawContours(frame, contours, -1, (0, 230, 255), 6)\n",
    "#cv2.imshow('original',)\n",
    "    if len(contours)>0:\n",
    "            c=max(contours,key=cv2.contourArea)\n",
    "            x,y,w,h = cv2.boundingRect(c)\n",
    "            cv2.rectangle(frame,(x,y),(x+w,y+h),(0,255,0),2)\n",
    "            center=(int((x+x+w)/2),int((y+y+h)/2))\n",
    "            cv2.circle(frame,center,10,(0,255,0),-1)\n",
    "            points.append(center)\n",
    "            #print(points)\n",
    "    if len(points)>=2:\n",
    "                for p in range(1,len(points)):\n",
    "                    cv2.line(frame,points[p-1],points[p],(0,230,255),3)\n",
    "            \n",
    "    cv2.imshow('frame',frame)\n",
    "    if cv2.waitKey(1) & 0xFF == ord('q'):\n",
    "        break\n",
    "\n",
    "# When everything done, release the capture\n",
    "cap.release()\n",
    "cv2.destroyAllWindows()\n"
   ]
  },
  {
   "cell_type": "code",
   "execution_count": 24,
   "metadata": {},
   "outputs": [
    {
     "ename": "KeyboardInterrupt",
     "evalue": "",
     "output_type": "error",
     "traceback": [
      "\u001b[1;31m---------------------------------------------------------------------------\u001b[0m",
      "\u001b[1;31mKeyboardInterrupt\u001b[0m                         Traceback (most recent call last)",
      "\u001b[1;32m<ipython-input-24-00b067bb6df1>\u001b[0m in \u001b[0;36m<module>\u001b[1;34m\u001b[0m\n\u001b[0;32m     10\u001b[0m \u001b[1;33m\u001b[0m\u001b[0m\n\u001b[0;32m     11\u001b[0m \u001b[0mcv2\u001b[0m\u001b[1;33m.\u001b[0m\u001b[0mimshow\u001b[0m\u001b[1;33m(\u001b[0m\u001b[1;34m'frame'\u001b[0m\u001b[1;33m,\u001b[0m\u001b[0mimg\u001b[0m\u001b[1;33m)\u001b[0m\u001b[1;33m\u001b[0m\u001b[1;33m\u001b[0m\u001b[0m\n\u001b[1;32m---> 12\u001b[1;33m \u001b[0mcv2\u001b[0m\u001b[1;33m.\u001b[0m\u001b[0mwaitKey\u001b[0m\u001b[1;33m(\u001b[0m\u001b[1;36m0\u001b[0m\u001b[1;33m)\u001b[0m\u001b[1;33m\u001b[0m\u001b[1;33m\u001b[0m\u001b[0m\n\u001b[0m\u001b[0;32m     13\u001b[0m \u001b[0mcv2\u001b[0m\u001b[1;33m.\u001b[0m\u001b[0mdestroyAllWindows\u001b[0m\u001b[1;33m(\u001b[0m\u001b[1;33m)\u001b[0m\u001b[1;33m\u001b[0m\u001b[1;33m\u001b[0m\u001b[0m\n",
      "\u001b[1;31mKeyboardInterrupt\u001b[0m: "
     ]
    }
   ],
   "source": [
    "frame = cv2.imread(\"C:/Users/hp/Downloads/pen.jpeg\")\n",
    "frame=imutils.resize(frame,500,500)\n",
    "ORANGE_MIN = np.array([5, 50, 50],np.uint8)\n",
    "ORANGE_MAX = np.array([10, 255, 255],np.uint8)\n",
    "\n",
    "hsv=cv2.cvtColor(frame,cv2.COLOR_BGR2HSV)\n",
    "img=cv2.inRange(hsv,ORANGE_MIN,ORANGE_MAX)\n",
    "    \n",
    "cv2.imshow('original',frame)\n",
    "    \n",
    "cv2.imshow('frame',img)q\n",
    "cv2.waitKey(0)\n",
    "cv2.destroyAllWindows()"
   ]
  },
  {
   "cell_type": "code",
   "execution_count": null,
   "metadata": {},
   "outputs": [],
   "source": [
    "def nothing(x):\n",
    "    pass\n",
    "cv2.namedWindow(\"Colorbars\")\n",
    "cv2.createTrackbar(\"l_h\",\"Colorbars\",0,255,nothing)\n",
    "cv2.createTrackbar(\"l_s\",\"Colorbars\",0,255,nothing)\n",
    "cv2.createTrackbar(\"l_v\",\"Colorbars\",0,255,nothing)\n",
    "cv2.createTrackbar(\"h_h\",\"Colorbars\",0,255,nothing)\n",
    "cv2.createTrackbar(\"h_s\",\"Colorbars\",0,255,nothing)\n",
    "cv2.createTrackbar(\"h_v\",\"Colorbars\",0,255,nothing)\n",
    "cv2.waitKey(0)\n",
    "cv2.destroyAllWindows()"
   ]
  },
  {
   "cell_type": "code",
   "execution_count": 12,
   "metadata": {},
   "outputs": [
    {
     "name": "stdout",
     "output_type": "stream",
     "text": [
      "0\n",
      "1\n",
      "2\n",
      "3\n"
     ]
    }
   ],
   "source": [
    "points=[\"a\",\"b\",\"c\",\"d\"]\n",
    "for p in points:\n",
    "    print(points.index(p))"
   ]
  },
  {
   "cell_type": "code",
   "execution_count": null,
   "metadata": {},
   "outputs": [],
   "source": []
  }
 ],
 "metadata": {
  "kernelspec": {
   "display_name": "Python 3",
   "language": "python",
   "name": "python3"
  },
  "language_info": {
   "codemirror_mode": {
    "name": "ipython",
    "version": 3
   },
   "file_extension": ".py",
   "mimetype": "text/x-python",
   "name": "python",
   "nbconvert_exporter": "python",
   "pygments_lexer": "ipython3",
   "version": "3.7.7"
  }
 },
 "nbformat": 4,
 "nbformat_minor": 4
}
